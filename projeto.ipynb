options = webdriver.ChromeOptions()
options.add_experimental_option("detach", True)
service = Service(ChromeDriverManager().install())
nav = webdriver.Chrome(options=options,service=service)
nav.get("https://web.whatsapp.com")

